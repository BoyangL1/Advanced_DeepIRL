{
 "cells": [
  {
   "cell_type": "code",
   "execution_count": 1,
   "metadata": {},
   "outputs": [],
   "source": [
    "import geopandas as gpd"
   ]
  },
  {
   "cell_type": "code",
   "execution_count": 19,
   "metadata": {},
   "outputs": [
    {
     "data": {
      "text/html": [
       "<div>\n",
       "<style scoped>\n",
       "    .dataframe tbody tr th:only-of-type {\n",
       "        vertical-align: middle;\n",
       "    }\n",
       "\n",
       "    .dataframe tbody tr th {\n",
       "        vertical-align: top;\n",
       "    }\n",
       "\n",
       "    .dataframe thead th {\n",
       "        text-align: right;\n",
       "    }\n",
       "</style>\n",
       "<table border=\"1\" class=\"dataframe\">\n",
       "  <thead>\n",
       "    <tr style=\"text-align: right;\">\n",
       "      <th></th>\n",
       "      <th>indexp</th>\n",
       "      <th>age</th>\n",
       "      <th>gender</th>\n",
       "      <th>date</th>\n",
       "      <th>move_id</th>\n",
       "      <th>length</th>\n",
       "    </tr>\n",
       "  </thead>\n",
       "  <tbody>\n",
       "    <tr>\n",
       "      <th>count</th>\n",
       "      <td>9.501400e+04</td>\n",
       "      <td>95014.000000</td>\n",
       "      <td>95014.000000</td>\n",
       "      <td>9.501400e+04</td>\n",
       "      <td>95014.000000</td>\n",
       "      <td>95014.000000</td>\n",
       "    </tr>\n",
       "    <tr>\n",
       "      <th>mean</th>\n",
       "      <td>3.966986e+07</td>\n",
       "      <td>7.684120</td>\n",
       "      <td>1.315996</td>\n",
       "      <td>2.019072e+07</td>\n",
       "      <td>1.717557</td>\n",
       "      <td>2803.607008</td>\n",
       "    </tr>\n",
       "    <tr>\n",
       "      <th>std</th>\n",
       "      <td>2.281046e+07</td>\n",
       "      <td>2.092064</td>\n",
       "      <td>0.464914</td>\n",
       "      <td>8.256073e+00</td>\n",
       "      <td>1.835047</td>\n",
       "      <td>1095.710248</td>\n",
       "    </tr>\n",
       "    <tr>\n",
       "      <th>min</th>\n",
       "      <td>2.427000e+03</td>\n",
       "      <td>4.000000</td>\n",
       "      <td>1.000000</td>\n",
       "      <td>2.019070e+07</td>\n",
       "      <td>0.000000</td>\n",
       "      <td>111.507474</td>\n",
       "    </tr>\n",
       "    <tr>\n",
       "      <th>25%</th>\n",
       "      <td>1.991471e+07</td>\n",
       "      <td>6.000000</td>\n",
       "      <td>1.000000</td>\n",
       "      <td>2.019071e+07</td>\n",
       "      <td>0.000000</td>\n",
       "      <td>1943.274278</td>\n",
       "    </tr>\n",
       "    <tr>\n",
       "      <th>50%</th>\n",
       "      <td>3.956794e+07</td>\n",
       "      <td>7.000000</td>\n",
       "      <td>1.000000</td>\n",
       "      <td>2.019072e+07</td>\n",
       "      <td>1.000000</td>\n",
       "      <td>2717.475632</td>\n",
       "    </tr>\n",
       "    <tr>\n",
       "      <th>75%</th>\n",
       "      <td>5.975773e+07</td>\n",
       "      <td>9.000000</td>\n",
       "      <td>2.000000</td>\n",
       "      <td>2.019072e+07</td>\n",
       "      <td>3.000000</td>\n",
       "      <td>3664.016860</td>\n",
       "    </tr>\n",
       "    <tr>\n",
       "      <th>max</th>\n",
       "      <td>7.896357e+07</td>\n",
       "      <td>16.000000</td>\n",
       "      <td>2.000000</td>\n",
       "      <td>2.019073e+07</td>\n",
       "      <td>17.000000</td>\n",
       "      <td>4999.941949</td>\n",
       "    </tr>\n",
       "  </tbody>\n",
       "</table>\n",
       "</div>"
      ],
      "text/plain": [
       "             indexp           age        gender          date       move_id  \\\n",
       "count  9.501400e+04  95014.000000  95014.000000  9.501400e+04  95014.000000   \n",
       "mean   3.966986e+07      7.684120      1.315996  2.019072e+07      1.717557   \n",
       "std    2.281046e+07      2.092064      0.464914  8.256073e+00      1.835047   \n",
       "min    2.427000e+03      4.000000      1.000000  2.019070e+07      0.000000   \n",
       "25%    1.991471e+07      6.000000      1.000000  2.019071e+07      0.000000   \n",
       "50%    3.956794e+07      7.000000      1.000000  2.019072e+07      1.000000   \n",
       "75%    5.975773e+07      9.000000      2.000000  2.019072e+07      3.000000   \n",
       "max    7.896357e+07     16.000000      2.000000  2.019073e+07     17.000000   \n",
       "\n",
       "             length  \n",
       "count  95014.000000  \n",
       "mean    2803.607008  \n",
       "std     1095.710248  \n",
       "min      111.507474  \n",
       "25%     1943.274278  \n",
       "50%     2717.475632  \n",
       "75%     3664.016860  \n",
       "max     4999.941949  "
      ]
     },
     "execution_count": 19,
     "metadata": {},
     "output_type": "execute_result"
    }
   ],
   "source": [
    "gdf = gpd.read_file('../data/nanshan_traj.shp')\n",
    "\n",
    "gdf.describe()"
   ]
  },
  {
   "cell_type": "code",
   "execution_count": 20,
   "metadata": {},
   "outputs": [
    {
     "name": "stdout",
     "output_type": "stream",
     "text": [
      "     age  count\n",
      "0    4.0    909\n",
      "1    5.0  11538\n",
      "2    6.0  20233\n",
      "3    7.0  17979\n",
      "4    8.0  14750\n",
      "5    9.0  10803\n",
      "6   10.0   9084\n",
      "7   11.0   5217\n",
      "8   12.0   2368\n",
      "9   13.0    910\n",
      "10  14.0    609\n",
      "11  15.0    528\n",
      "12  16.0     86\n",
      "   gender  count\n",
      "0     1.0  64990\n",
      "1     2.0  30024\n"
     ]
    }
   ],
   "source": [
    "grouped = gdf.groupby(['age']).size().reset_index(name='count')\n",
    "print(grouped)\n",
    "grouped = gdf.groupby(['gender']).size().reset_index(name='count')\n",
    "print(grouped)\n"
   ]
  },
  {
   "cell_type": "code",
   "execution_count": 21,
   "metadata": {},
   "outputs": [
    {
     "name": "stdout",
     "output_type": "stream",
     "text": [
      "35184339.0    52\n",
      "63382557.0    51\n",
      "62203209.0    50\n",
      "9285477.0     47\n",
      "39756432.0    46\n",
      "              ..\n",
      "33290016.0     1\n",
      "33288806.0     1\n",
      "33287354.0     1\n",
      "33283463.0     1\n",
      "78963571.0     1\n",
      "Name: indexp, Length: 44164, dtype: int64\n"
     ]
    }
   ],
   "source": [
    "indexp_counts = gdf['indexp'].value_counts()\n",
    "print(indexp_counts)"
   ]
  },
  {
   "cell_type": "code",
   "execution_count": 22,
   "metadata": {},
   "outputs": [
    {
     "name": "stdout",
     "output_type": "stream",
     "text": [
      "1.0    28620\n",
      "2.0    15544\n",
      "Name: gender, dtype: int64\n"
     ]
    }
   ],
   "source": [
    "# Drop duplicates based on 'indexp' and 'gender'\n",
    "unique_people = gdf.drop_duplicates(subset=['indexp', 'gender'])\n",
    "\n",
    "# Count the number of unique 'indexp' for each gender\n",
    "gender_counts = unique_people['gender'].value_counts()\n",
    "\n",
    "print(gender_counts)\n"
   ]
  },
  {
   "cell_type": "code",
   "execution_count": 27,
   "metadata": {},
   "outputs": [
    {
     "name": "stdout",
     "output_type": "stream",
     "text": [
      "<bound method Series.sort_index of 6.0     9507\n",
      "7.0     8561\n",
      "8.0     6785\n",
      "5.0     5338\n",
      "9.0     5036\n",
      "10.0    3962\n",
      "11.0    2334\n",
      "12.0    1107\n",
      "4.0      484\n",
      "13.0     442\n",
      "14.0     301\n",
      "15.0     268\n",
      "16.0      39\n",
      "Name: age, dtype: int64>\n"
     ]
    }
   ],
   "source": [
    "# Drop duplicates based on 'indexp' and 'gender'\n",
    "unique_people = gdf.drop_duplicates(subset=['indexp', 'age'])\n",
    "\n",
    "# Count the number of unique 'indexp' for each gender\n",
    "gender_counts = unique_people['age'].value_counts()\n",
    "\n",
    "print(gender_counts.sort_index)"
   ]
  },
  {
   "cell_type": "code",
   "execution_count": 28,
   "metadata": {},
   "outputs": [
    {
     "name": "stdout",
     "output_type": "stream",
     "text": [
      "{'4-7': 14383, '8-13': 19666, 'Others': 608}\n"
     ]
    }
   ],
   "source": [
    "# Given data\n",
    "age_counts = {\n",
    "    7.0: 8561,\n",
    "    8.0: 6785,\n",
    "    5.0: 5338,\n",
    "    9.0: 5036,\n",
    "    10.0: 3962,\n",
    "    11.0: 2334,\n",
    "    12.0: 1107,\n",
    "    4.0: 484,\n",
    "    13.0: 442,\n",
    "    14.0: 301,\n",
    "    15.0: 268,\n",
    "    16.0: 39\n",
    "}\n",
    "\n",
    "# Define age groups\n",
    "age_groups = {\n",
    "    \"4-7\": range(4, 8),  # includes ages 4, 5, 6, and 7\n",
    "    \"8-13\": range(8, 14),  # includes ages 8 through 13\n",
    "    \"Others\": []\n",
    "}\n",
    "\n",
    "# Group and sum counts based on defined age groups\n",
    "grouped_counts = {}\n",
    "for group, ages in age_groups.items():\n",
    "    grouped_counts[group] = sum(age_counts[age] for age in ages if age in age_counts)\n",
    "\n",
    "# For \"Others\" group, subtract the counts of the other two groups from the total\n",
    "grouped_counts[\"Others\"] = sum(age_counts.values()) - grouped_counts[\"4-7\"] - grouped_counts[\"8-13\"]\n",
    "\n",
    "print(grouped_counts)\n"
   ]
  },
  {
   "cell_type": "code",
   "execution_count": 24,
   "metadata": {},
   "outputs": [
    {
     "name": "stdout",
     "output_type": "stream",
     "text": [
      "Number of unique points: 3584\n"
     ]
    }
   ],
   "source": [
    "# Create an empty set to store unique points\n",
    "unique_points = set()\n",
    "\n",
    "# Loop through each geometry and extract its constituent points\n",
    "for geom in gdf.geometry:\n",
    "    if geom.geom_type == 'LineString':\n",
    "        for pt in geom.coords:\n",
    "            unique_points.add(pt)\n",
    "    elif geom.geom_type == 'MultiLineString':\n",
    "        for line in geom:\n",
    "            for pt in line.coords:\n",
    "                unique_points.add(pt)\n",
    "\n",
    "print(f\"Number of unique points: {len(unique_points)}\")\n"
   ]
  },
  {
   "cell_type": "code",
   "execution_count": 25,
   "metadata": {},
   "outputs": [
    {
     "name": "stdout",
     "output_type": "stream",
     "text": [
      "Total number of points: 2160763\n"
     ]
    }
   ],
   "source": [
    "total_points = sum(len(line.coords) for line in gdf.geometry if line.geom_type == 'LineString')\n",
    "\n",
    "print(f\"Total number of points: {total_points}\")\n"
   ]
  }
 ],
 "metadata": {
  "kernelspec": {
   "display_name": "base",
   "language": "python",
   "name": "python3"
  },
  "language_info": {
   "codemirror_mode": {
    "name": "ipython",
    "version": 3
   },
   "file_extension": ".py",
   "mimetype": "text/x-python",
   "name": "python",
   "nbconvert_exporter": "python",
   "pygments_lexer": "ipython3",
   "version": "3.9.12"
  }
 },
 "nbformat": 4,
 "nbformat_minor": 2
}
