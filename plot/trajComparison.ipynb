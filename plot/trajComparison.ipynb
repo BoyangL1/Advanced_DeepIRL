{
 "cells": [
  {
   "cell_type": "code",
   "execution_count": 6,
   "metadata": {},
   "outputs": [],
   "source": [
    "import geopandas as gpd\n",
    "import pandas as pd"
   ]
  },
  {
   "cell_type": "code",
   "execution_count": 2,
   "metadata": {},
   "outputs": [],
   "source": [
    "true_fnid=[9719.0, 9718.0, 9717.0, 9716.0, 10073.0, 10430.0, 10787.0, 10786.0, 11143.0, 11142.0, 11141.0, 11140.0, 11139.0, 11138.0, 11137.0, 11494.0, 11493.0, 11850.0, 12207.0, 11850.0, 11849.0, 11848.0]\n",
    "fnid_logit=[11848.0, 11492.0, 11493.0, 11851.0, 11852.0, 11853.0, 11497.0, 11141.0, 10785.0, 10429.0, 10073.0, 9717.0, 9718.0, 9719.0]\n",
    "fnid_ga=[11848.0, 11492.0, 11493.0, 11851.0, 11495.0, 11139.0, 10783.0, 10427.0, 10071.0, 9715.0, 10073.0, 9717.0, 9718.0, 9719.0]\n",
    "fnid_ge=[11848.0, 11492.0, 11493.0, 11494.0, 11138.0, 11139.0, 10783.0, 11141.0, 10785.0, 10429.0, 10072.0, 9716.0, 9717.0, 9718.0, 9719.0]\n",
    "\n",
    "fnid_psl=[9719.0, 9718.0, 9717.0, 9359.0, 9715.0, 10071.0, 10427.0, 10783.0, 11139.0, 11138.0, 11137.0, 11136.0, 11492.0, 11848.0]"
   ]
  },
  {
   "cell_type": "code",
   "execution_count": 3,
   "metadata": {},
   "outputs": [],
   "source": [
    "gdf=gpd.read_file('../data/nanshan_grid.shp')"
   ]
  },
  {
   "cell_type": "code",
   "execution_count": 13,
   "metadata": {},
   "outputs": [],
   "source": [
    "def add_columns_based_on_fnid(row):\n",
    "    fnid = row['fnid']\n",
    "    columns = {'true': 0, 'logit': 0, 'ga': 0, 'ge': 0, 'psl': 0}\n",
    "    \n",
    "    if fnid in true_fnid:\n",
    "        columns['true'] = 1\n",
    "    if fnid in fnid_logit:\n",
    "        columns['logit'] = 1\n",
    "    if fnid in fnid_ga:\n",
    "        columns['ga'] = 1\n",
    "    if fnid in fnid_ge:\n",
    "        columns['ge'] = 1\n",
    "    if fnid in fnid_psl:\n",
    "        columns['psl'] = 1\n",
    "    \n",
    "    return pd.Series(columns)\n",
    "\n",
    "# 使用apply方法添加新的列\n",
    "gdf[['true', 'logit', 'ga', 'ge', 'psl']] = gdf.apply(add_columns_based_on_fnid, axis=1)\n",
    "gdf['sum'] = gdf[['true', 'logit', 'ga', 'ge', 'psl']].sum(axis=1)\n"
   ]
  },
  {
   "cell_type": "code",
   "execution_count": 14,
   "metadata": {},
   "outputs": [
    {
     "data": {
      "text/html": [
       "<div>\n",
       "<style scoped>\n",
       "    .dataframe tbody tr th:only-of-type {\n",
       "        vertical-align: middle;\n",
       "    }\n",
       "\n",
       "    .dataframe tbody tr th {\n",
       "        vertical-align: top;\n",
       "    }\n",
       "\n",
       "    .dataframe thead th {\n",
       "        text-align: right;\n",
       "    }\n",
       "</style>\n",
       "<table border=\"1\" class=\"dataframe\">\n",
       "  <thead>\n",
       "    <tr style=\"text-align: right;\">\n",
       "      <th></th>\n",
       "      <th>fnid</th>\n",
       "      <th>county_cod</th>\n",
       "      <th>county_nam</th>\n",
       "      <th>geometry</th>\n",
       "      <th>true</th>\n",
       "      <th>logit</th>\n",
       "      <th>ga</th>\n",
       "      <th>ge</th>\n",
       "      <th>psl</th>\n",
       "      <th>sum</th>\n",
       "    </tr>\n",
       "  </thead>\n",
       "  <tbody>\n",
       "    <tr>\n",
       "      <th>0</th>\n",
       "      <td>4704.0</td>\n",
       "      <td>440305.0</td>\n",
       "      <td>南山区</td>\n",
       "      <td>POLYGON ((113.90534 22.47621, 113.90290 22.476...</td>\n",
       "      <td>0</td>\n",
       "      <td>0</td>\n",
       "      <td>0</td>\n",
       "      <td>0</td>\n",
       "      <td>0</td>\n",
       "      <td>0</td>\n",
       "    </tr>\n",
       "    <tr>\n",
       "      <th>1</th>\n",
       "      <td>9700.0</td>\n",
       "      <td>440305.0</td>\n",
       "      <td>南山区</td>\n",
       "      <td>POLYGON ((113.90046 22.50723, 113.89802 22.507...</td>\n",
       "      <td>0</td>\n",
       "      <td>0</td>\n",
       "      <td>0</td>\n",
       "      <td>0</td>\n",
       "      <td>0</td>\n",
       "      <td>0</td>\n",
       "    </tr>\n",
       "    <tr>\n",
       "      <th>2</th>\n",
       "      <td>14003.0</td>\n",
       "      <td>440305.0</td>\n",
       "      <td>南山区</td>\n",
       "      <td>POLYGON ((113.94439 22.53604, 113.94683 22.536...</td>\n",
       "      <td>0</td>\n",
       "      <td>0</td>\n",
       "      <td>0</td>\n",
       "      <td>0</td>\n",
       "      <td>0</td>\n",
       "      <td>0</td>\n",
       "    </tr>\n",
       "    <tr>\n",
       "      <th>3</th>\n",
       "      <td>9357.0</td>\n",
       "      <td>440305.0</td>\n",
       "      <td>南山区</td>\n",
       "      <td>POLYGON ((113.93463 22.50501, 113.93218 22.505...</td>\n",
       "      <td>0</td>\n",
       "      <td>0</td>\n",
       "      <td>0</td>\n",
       "      <td>0</td>\n",
       "      <td>0</td>\n",
       "      <td>0</td>\n",
       "    </tr>\n",
       "    <tr>\n",
       "      <th>4</th>\n",
       "      <td>14000.0</td>\n",
       "      <td>440305.0</td>\n",
       "      <td>南山区</td>\n",
       "      <td>POLYGON ((113.93951 22.53382, 113.93707 22.533...</td>\n",
       "      <td>0</td>\n",
       "      <td>0</td>\n",
       "      <td>0</td>\n",
       "      <td>0</td>\n",
       "      <td>0</td>\n",
       "      <td>0</td>\n",
       "    </tr>\n",
       "  </tbody>\n",
       "</table>\n",
       "</div>"
      ],
      "text/plain": [
       "      fnid  county_cod county_nam  \\\n",
       "0   4704.0    440305.0        南山区   \n",
       "1   9700.0    440305.0        南山区   \n",
       "2  14003.0    440305.0        南山区   \n",
       "3   9357.0    440305.0        南山区   \n",
       "4  14000.0    440305.0        南山区   \n",
       "\n",
       "                                            geometry  true  logit  ga  ge  \\\n",
       "0  POLYGON ((113.90534 22.47621, 113.90290 22.476...     0      0   0   0   \n",
       "1  POLYGON ((113.90046 22.50723, 113.89802 22.507...     0      0   0   0   \n",
       "2  POLYGON ((113.94439 22.53604, 113.94683 22.536...     0      0   0   0   \n",
       "3  POLYGON ((113.93463 22.50501, 113.93218 22.505...     0      0   0   0   \n",
       "4  POLYGON ((113.93951 22.53382, 113.93707 22.533...     0      0   0   0   \n",
       "\n",
       "   psl  sum  \n",
       "0    0    0  \n",
       "1    0    0  \n",
       "2    0    0  \n",
       "3    0    0  \n",
       "4    0    0  "
      ]
     },
     "execution_count": 14,
     "metadata": {},
     "output_type": "execute_result"
    }
   ],
   "source": [
    "gdf.head(5)"
   ]
  },
  {
   "cell_type": "code",
   "execution_count": 16,
   "metadata": {},
   "outputs": [],
   "source": [
    "gdf.to_file('../data//test/nanshan_grid_with_labels.shp')"
   ]
  }
 ],
 "metadata": {
  "kernelspec": {
   "display_name": "django",
   "language": "python",
   "name": "python3"
  },
  "language_info": {
   "codemirror_mode": {
    "name": "ipython",
    "version": 3
   },
   "file_extension": ".py",
   "mimetype": "text/x-python",
   "name": "python",
   "nbconvert_exporter": "python",
   "pygments_lexer": "ipython3",
   "version": "3.7.11"
  },
  "orig_nbformat": 4
 },
 "nbformat": 4,
 "nbformat_minor": 2
}
