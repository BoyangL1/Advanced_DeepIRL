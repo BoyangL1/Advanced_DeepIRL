{
 "cells": [
  {
   "cell_type": "code",
   "execution_count": 14,
   "metadata": {},
   "outputs": [],
   "source": [
    "import matplotlib.pyplot as plt\n",
    "import seaborn as sns\n",
    "import pandas as pd\n",
    "from matplotlib import rcParams\n",
    "import numpy as np"
   ]
  },
  {
   "cell_type": "code",
   "execution_count": 16,
   "metadata": {},
   "outputs": [],
   "source": [
    "\n",
    "\n",
    "\n",
    "data1 = np.load('../data/evaluate/traj_evaluate_pemirl.npy')\n",
    "data2 = np.load('../data/evaluate/traj_evaluate_be.npy')\n",
    "data3 = np.load('../data/evaluate/traj_evaluate_rl.npy')\n",
    "data4 = np.load('../data/evaluate/traj_evaluate_psl.npy')\n",
    "\n",
    "df = pd.DataFrame({'PEMIRL': data1, 'MaxEntIRL': data2, 'R-Logit': data3, 'DNN-PSL': data4})\n",
    "\n",
    "rcParams['font.family'] = 'Times New Roman'\n",
    "\n",
    "plt.figure(figsize=(10, 12),dpi=1000)\n",
    "plt.grid(axis='y', linestyle='--', alpha=0.7)\n",
    "sns.boxplot(data=df, palette=\"Set3\",boxprops={'alpha': 1})\n",
    "\n",
    "plt.title(\"Model Accuracy Comparison\",fontsize=16)\n",
    "plt.xlabel(\"Model Name\",fontsize=12)\n",
    "plt.ylabel(\"DTW Distance\",fontsize=12)\n",
    "\n",
    "plt.xticks(fontsize=14)\n",
    "plt.yticks(fontsize=14)\n",
    "\n",
    "sns.stripplot(data=df, color='gray', jitter=True, alpha=0.2)\n",
    "\n",
    "sns.despine()\n",
    "plt.savefig('../img/box comparison.png',dpi=1000)\n",
    "plt.show()"
   ]
  }
 ],
 "metadata": {
  "kernelspec": {
   "display_name": "pytorch",
   "language": "python",
   "name": "python3"
  },
  "language_info": {
   "codemirror_mode": {
    "name": "ipython",
    "version": 3
   },
   "file_extension": ".py",
   "mimetype": "text/x-python",
   "name": "python",
   "nbconvert_exporter": "python",
   "pygments_lexer": "ipython3",
   "version": "3.9.12"
  },
  "orig_nbformat": 4
 },
 "nbformat": 4,
 "nbformat_minor": 2
}
