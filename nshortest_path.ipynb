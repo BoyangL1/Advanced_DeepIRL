{
 "cells": [
  {
   "cell_type": "code",
   "execution_count": null,
   "metadata": {},
   "outputs": [],
   "source": [
    "import geopandas as gpd\n",
    "import networkx as nx\n",
    "from shapely.geometry import Polygon\n",
    "import numpy as np\n",
    "from collections import namedtuple\n",
    "Step=namedtuple('Step',['state','action'])"
   ]
  },
  {
   "cell_type": "markdown",
   "metadata": {},
   "source": [
    "# nanshan graph"
   ]
  },
  {
   "cell_type": "code",
   "execution_count": null,
   "metadata": {},
   "outputs": [],
   "source": [
    "shapefile_path = \"./data/nanshan_grid.shp\"\n",
    "gdf = gpd.read_file(shapefile_path)\n",
    "\n",
    "G = nx.Graph()"
   ]
  },
  {
   "cell_type": "code",
   "execution_count": null,
   "metadata": {},
   "outputs": [],
   "source": [
    "for index, row in gdf.iterrows():\n",
    "    current_node = tuple(row['geometry'].exterior.coords)\n",
    "    fnid = row['fnid'] \n",
    "    G.add_node(current_node, fnid=fnid)\n",
    "\n",
    "    for neighbor_index, neighbor_row in gdf.iterrows():\n",
    "        neighbor_node = tuple(neighbor_row['geometry'].exterior.coords)\n",
    "        if current_node != neighbor_node and Polygon(current_node).touches(Polygon(neighbor_node)):\n",
    "            G.add_edge(current_node, neighbor_node)"
   ]
  },
  {
   "cell_type": "code",
   "execution_count": null,
   "metadata": {},
   "outputs": [],
   "source": [
    "graphml_file = \"./data/nanshan_network.graphml\"\n",
    "nx.write_graphml(G, graphml_file)"
   ]
  },
  {
   "cell_type": "code",
   "execution_count": null,
   "metadata": {},
   "outputs": [],
   "source": [
    "G=nx.read_graphml(graphml_file)"
   ]
  },
  {
   "cell_type": "markdown",
   "metadata": {},
   "source": [
    "# origin & destination coord"
   ]
  },
  {
   "cell_type": "code",
   "execution_count": null,
   "metadata": {},
   "outputs": [],
   "source": [
    "states_tuple_path = './data/routes_states/0_0_states_tuple.npy'\n",
    "state_action = np.load(states_tuple_path, allow_pickle=True)\n",
    "selected_traj = np.random.choice(state_action, size=1, replace=False)[0]\n",
    "origin, destination = int(selected_traj[0].state), int(selected_traj[-1].state)"
   ]
  },
  {
   "cell_type": "markdown",
   "metadata": {},
   "source": [
    "# n shortest path"
   ]
  },
  {
   "cell_type": "code",
   "execution_count": null,
   "metadata": {},
   "outputs": [],
   "source": [
    "origin_node = [(node,data) for node, data in G.nodes(data=True) if data.get('fnid') == origin]\n",
    "destination_node = [(node, data) for node, data in G.nodes(data=True) if data.get('fnid') == destination]"
   ]
  },
  {
   "cell_type": "code",
   "execution_count": null,
   "metadata": {},
   "outputs": [],
   "source": [
    "num_paths_to_find = 10\n",
    "origin = origin_node[0][0]\n",
    "destination = destination_node[0][0]\n",
    "\n",
    "shortest_paths = []\n",
    "for _ in range(num_paths_to_find):\n",
    "    shortest_path = nx.shortest_path(G, source=origin, target=destination)\n",
    "    shortest_paths.append(shortest_path)\n",
    "\n",
    "    for u, v in zip(shortest_path[:-1], shortest_path[1:]):\n",
    "        G.remove_edge(u, v)"
   ]
  },
  {
   "cell_type": "code",
   "execution_count": null,
   "metadata": {},
   "outputs": [],
   "source": [
    "for i, path in enumerate(shortest_paths):\n",
    "    fnid_values = [G.nodes[node]['fnid'] for node in path]\n",
    "    print(f\"shortest path {i+1}: {fnid_values}\")"
   ]
  }
 ],
 "metadata": {
  "kernelspec": {
   "display_name": "django",
   "language": "python",
   "name": "python3"
  },
  "language_info": {
   "codemirror_mode": {
    "name": "ipython",
    "version": 3
   },
   "file_extension": ".py",
   "mimetype": "text/x-python",
   "name": "python",
   "nbconvert_exporter": "python",
   "pygments_lexer": "ipython3",
   "version": "3.7.11"
  },
  "orig_nbformat": 4
 },
 "nbformat": 4,
 "nbformat_minor": 2
}
