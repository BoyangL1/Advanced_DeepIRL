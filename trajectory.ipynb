{
 "cells": [
  {
   "cell_type": "code",
   "execution_count": null,
   "metadata": {},
   "outputs": [],
   "source": [
    "import geopandas as gpd\n",
    "import matplotlib.pyplot as plot\n",
    "from shapely import geometry\n",
    "from shapely.geometry import LineString, Point, box\n",
    "import geopandas as gpd\n",
    "import pandas as pd\n",
    "import itertools\n",
    "from collections import deque,namedtuple\n",
    "import numpy as np\n",
    "import concurrent.futures\n",
    "from tqdm import tqdm"
   ]
  },
  {
   "cell_type": "markdown",
   "metadata": {},
   "source": [
    "# prepare data"
   ]
  },
  {
   "cell_type": "code",
   "execution_count": null,
   "metadata": {},
   "outputs": [],
   "source": [
    "routes = gpd.read_file('./data/nanshan_traj.shp')\n",
    "routes=routes.to_crs('EPSG:4326')\n",
    "routes = routes[routes['age'] != 16]\n",
    "district=gpd.read_file('./data/nanshan_grid.shp')"
   ]
  },
  {
   "cell_type": "code",
   "execution_count": null,
   "metadata": {},
   "outputs": [],
   "source": [
    "routes = routes.dropna(subset=['geometry'])"
   ]
  },
  {
   "cell_type": "code",
   "execution_count": null,
   "metadata": {},
   "outputs": [],
   "source": [
    "print(set(routes['age']))\n",
    "print(set(routes['gender']))"
   ]
  },
  {
   "cell_type": "code",
   "execution_count": null,
   "metadata": {},
   "outputs": [],
   "source": [
    "young_men = routes[(routes['age'] >= 4) & (routes['age'] <= 7) & (routes['gender'] == 1)]\n",
    "young_women = routes[(routes['age'] >= 4) & (routes['age'] <= 7) & (routes['gender'] == 2)]\n",
    "middle_men =  routes[(routes['age'] >= 8) & (routes['age'] <= 13) & (routes['gender'] == 1)]\n",
    "middle_women = routes[(routes['age'] >= 8) & (routes['age'] <= 13) & (routes['gender'] == 2)]\n",
    "old_men = routes[(routes['age'] >= 14) & (routes['gender'] == 1)]\n",
    "old_women = routes[(routes['age'] >= 14) & (routes['gender'] == 2)]"
   ]
  },
  {
   "cell_type": "code",
   "execution_count": null,
   "metadata": {},
   "outputs": [],
   "source": [
    "print(len(young_men),len(young_women),len(middle_men),len(middle_women),len(old_men),len(old_women))"
   ]
  },
  {
   "cell_type": "markdown",
   "metadata": {},
   "source": [
    "# Function"
   ]
  },
  {
   "cell_type": "code",
   "execution_count": null,
   "metadata": {},
   "outputs": [],
   "source": [
    "def getFnidByPoint(first_point, second_point):\n",
    "    fnid_list = []\n",
    "\n",
    "    # Create LineString from first_point to second_point\n",
    "    line = LineString([first_point, second_point])\n",
    "    line_series = gpd.GeoSeries([line], crs=4326)\n",
    "    line_utm = line_series.to_crs(32650)\n",
    "\n",
    "    dist = line_utm.length.iloc[0]\n",
    "    delta = int(dist // 50)\n",
    "\n",
    "    x_diff = second_point[0] - first_point[0]\n",
    "    y_diff = second_point[1] - first_point[1]\n",
    "    x_values = np.linspace(first_point[0], second_point[0], delta + 1)\n",
    "    y_values = np.linspace(first_point[1], second_point[1], delta + 1)\n",
    "    interpolation_points = [Point(x, y) for x, y in zip(x_values, y_values)]\n",
    "\n",
    "    # Perform overlay analysis for each point\n",
    "    intersect = gpd.overlay(district, gpd.GeoDataFrame(geometry=interpolation_points, crs=4326), how='intersection', keep_geom_type=False)\n",
    "    fnid_list.extend(intersect['fnid'])\n",
    "\n",
    "    return fnid_list"
   ]
  },
  {
   "cell_type": "code",
   "execution_count": null,
   "metadata": {},
   "outputs": [],
   "source": [
    "def routeToFnid(routes):\n",
    "    def process_route(route):\n",
    "        geometry_ = route\n",
    "        q = deque(geometry_.coords)\n",
    "        first_point = q.popleft()\n",
    "        states = set()  # 使用集合来存储状态，以去重\n",
    "        while q:\n",
    "            second_point = q.popleft()\n",
    "            fnid_list = getFnidByPoint(first_point, second_point)\n",
    "            if fnid_list:\n",
    "                states.update(fnid_list)\n",
    "            first_point = second_point\n",
    "        return list(states)\n",
    "\n",
    "    print('the length of routes is {}'.format(len(routes)))\n",
    "    routes_states = []\n",
    "    with concurrent.futures.ThreadPoolExecutor() as executor:\n",
    "        results = list(tqdm(executor.map(process_route, routes.geometry), total=len(routes)))\n",
    "        for i, states_unique in enumerate(results):\n",
    "            routes_states.append(states_unique)\n",
    "\n",
    "    routes_states = np.array(routes_states)\n",
    "    return routes_states"
   ]
  },
  {
   "cell_type": "code",
   "execution_count": null,
   "metadata": {},
   "outputs": [],
   "source": [
    "actions = [0, 1, 2, 3, 4]\n",
    "dirs = {0: 'r', 1: 'l', 2: 'd', 3: 'u', 4: 's'}\n",
    "Step=namedtuple('Step',['state','action'])\n",
    "\n",
    "def getActionOfStates(route_state):\n",
    "    state_action = []\n",
    "    length = len(route_state)\n",
    "\n",
    "    if length == 1:\n",
    "        step = Step(state=route_state[0], action=4)\n",
    "        state_action.append(step)\n",
    "        return state_action\n",
    "\n",
    "    diff = np.diff(route_state)  # 计算相邻状态之间的差值\n",
    "\n",
    "    def getAction(diff_value):\n",
    "        if diff_value == 1:\n",
    "            return 0\n",
    "        elif diff_value == -1:\n",
    "            return 1\n",
    "        elif diff_value == 357:\n",
    "            return 3\n",
    "        elif diff_value == -357:\n",
    "            return 2\n",
    "        else:\n",
    "            return 4  # 默认停留\n",
    "\n",
    "    actions = np.vectorize(getAction)(diff)  # 使用矢量化操作获取所有动作\n",
    "\n",
    "    for i, action in enumerate(actions):\n",
    "        step = Step(state=route_state[i], action=action)\n",
    "        state_action.append(step)\n",
    "\n",
    "    step = Step(state=route_state[-1], action=4)\n",
    "    state_action.append(step)\n",
    "\n",
    "    return state_action\n"
   ]
  },
  {
   "cell_type": "code",
   "execution_count": null,
   "metadata": {},
   "outputs": [],
   "source": [
    "import random\n",
    "\n",
    "# If the amount of data is too large, downsampling can be performed\n",
    "def randomSelectLines(geodataframe, percent_to_select=0.7):\n",
    "    total_lines = len(geodataframe)\n",
    "    if total_lines<1000:\n",
    "        num_lines_to_select = int(total_lines * 1)\n",
    "        random_line_indices = random.sample(range(total_lines), num_lines_to_select)\n",
    "        randomly_selected_lines = geodataframe.iloc[random_line_indices]\n",
    "        return randomly_selected_lines\n",
    "\n",
    "    num_lines_to_select = int(total_lines * (percent_to_select))\n",
    "    random_line_indices = random.sample(range(total_lines), num_lines_to_select)\n",
    "    randomly_selected_lines = geodataframe.iloc[random_line_indices]\n",
    "    return randomly_selected_lines"
   ]
  },
  {
   "cell_type": "code",
   "execution_count": null,
   "metadata": {},
   "outputs": [],
   "source": [
    "def routeToTuple(routes,save_file):\n",
    "    routes=randomSelectLines(routes)\n",
    "    routes_states=routeToFnid(routes)\n",
    "    state_action_tuple=[]\n",
    "    for route_state in tqdm(routes_states):\n",
    "        sta_act=getActionOfStates(route_state)\n",
    "        state_action_tuple.append(sta_act)\n",
    "    print(state_action_tuple[0])\n",
    "    state_action_tuple=np.array(state_action_tuple)\n",
    "    np.save(save_file,state_action_tuple) "
   ]
  },
  {
   "cell_type": "markdown",
   "metadata": {},
   "source": [
    "# main function"
   ]
  },
  {
   "cell_type": "code",
   "execution_count": null,
   "metadata": {},
   "outputs": [],
   "source": [
    "# 第一个0男，1女；第二个0青，1中，2老\n",
    "routeToTuple(young_men,'./data/routes_states/0_0_states_tuple.npy')"
   ]
  },
  {
   "cell_type": "code",
   "execution_count": null,
   "metadata": {},
   "outputs": [],
   "source": [
    "routeToTuple(middle_men,'./data/routes_states/0_1_states_tuple.npy')"
   ]
  },
  {
   "cell_type": "code",
   "execution_count": null,
   "metadata": {},
   "outputs": [],
   "source": [
    "routeToTuple(old_men,'./data/routes_states/0_2_states_tuple.npy')"
   ]
  },
  {
   "cell_type": "code",
   "execution_count": null,
   "metadata": {},
   "outputs": [],
   "source": [
    "routeToTuple(young_women,'./data/routes_states/1_0_states_tuple.npy')"
   ]
  },
  {
   "cell_type": "code",
   "execution_count": null,
   "metadata": {},
   "outputs": [],
   "source": [
    "routeToTuple(middle_women,'./data/routes_states/1_1_states_tuple.npy')"
   ]
  },
  {
   "cell_type": "code",
   "execution_count": null,
   "metadata": {},
   "outputs": [],
   "source": [
    "routeToTuple(old_women,'./data/routes_states/1_2_states_tuple.npy')"
   ]
  },
  {
   "cell_type": "code",
   "execution_count": null,
   "metadata": {},
   "outputs": [],
   "source": [
    "import numpy as np \n",
    "np.load('./data/routes_states/1_2_states_tuple.npy',allow_pickle=True)"
   ]
  }
 ],
 "metadata": {
  "kernelspec": {
   "display_name": "Python 3.7.11 ('django')",
   "language": "python",
   "name": "python3"
  },
  "language_info": {
   "codemirror_mode": {
    "name": "ipython",
    "version": 3
   },
   "file_extension": ".py",
   "mimetype": "text/x-python",
   "name": "python",
   "nbconvert_exporter": "python",
   "pygments_lexer": "ipython3",
   "version": "3.7.11"
  },
  "orig_nbformat": 4,
  "vscode": {
   "interpreter": {
    "hash": "764d3ea85697cfb78fbfbf4297caf293f5408afbb175a5f0ffc0949cef450b37"
   }
  }
 },
 "nbformat": 4,
 "nbformat_minor": 2
}
